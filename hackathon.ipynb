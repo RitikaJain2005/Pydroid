{
 "cells": [
  {
   "cell_type": "code",
   "execution_count": 1,
   "id": "4cd5f741-be75-4f05-bed5-c957b81ef855",
   "metadata": {},
   "outputs": [],
   "source": [
    "import pandas as pd\n",
    "import numpy as np\n",
    "import matplotlib.pyplot as plt\n",
    "import seaborn as sns\n",
    "import joblib\n",
    "\n",
    "from sklearn.model_selection import train_test_split, GridSearchCV, StratifiedKFold\n",
    "from sklearn.preprocessing import LabelEncoder, OneHotEncoder, StandardScaler\n",
    "from sklearn.impute import SimpleImputer\n",
    "from sklearn.compose import ColumnTransformer\n",
    "from sklearn.pipeline import Pipeline\n",
    "from sklearn.metrics import classification_report, accuracy_score, confusion_matrix\n",
    "from xgboost import XGBClassifier\n",
    "from imblearn.over_sampling import SMOTE\n",
    "from imblearn.pipeline import Pipeline as ImbPipeline "
   ]
  },
  {
   "cell_type": "code",
   "execution_count": 2,
   "id": "9a2df70a-842b-4ae4-b9d8-e23c706d705e",
   "metadata": {},
   "outputs": [],
   "source": [
    "train_df = pd.read_csv(r'C:\\Users\\Lenovo\\Downloads\\train.csv')\n",
    "test_df = pd.read_csv(r'C:\\Users\\Lenovo\\Downloads\\test.csv')\n",
    "sample_submission_df = pd.read_csv(r'C:\\Users\\Lenovo\\Downloads\\sample_submission.csv')"
   ]
  },
  {
   "cell_type": "code",
   "execution_count": 3,
   "id": "b4abee63-4206-40a2-85e1-8bb2e380e479",
   "metadata": {},
   "outputs": [
    {
     "data": {
      "text/html": [
       "<div>\n",
       "<style scoped>\n",
       "    .dataframe tbody tr th:only-of-type {\n",
       "        vertical-align: middle;\n",
       "    }\n",
       "\n",
       "    .dataframe tbody tr th {\n",
       "        vertical-align: top;\n",
       "    }\n",
       "\n",
       "    .dataframe thead th {\n",
       "        text-align: right;\n",
       "    }\n",
       "</style>\n",
       "<table border=\"1\" class=\"dataframe\">\n",
       "  <thead>\n",
       "    <tr style=\"text-align: right;\">\n",
       "      <th></th>\n",
       "      <th>ID</th>\n",
       "      <th>Sex</th>\n",
       "      <th>Bachelor</th>\n",
       "      <th>Age</th>\n",
       "      <th>Graduated</th>\n",
       "      <th>Career</th>\n",
       "      <th>Work Experience</th>\n",
       "      <th>Family Expenses</th>\n",
       "      <th>Family  Size</th>\n",
       "      <th>Variable</th>\n",
       "      <th>Segmentation</th>\n",
       "      <th>Description</th>\n",
       "    </tr>\n",
       "  </thead>\n",
       "  <tbody>\n",
       "    <tr>\n",
       "      <th>0</th>\n",
       "      <td>1462220581</td>\n",
       "      <td>Male</td>\n",
       "      <td>No</td>\n",
       "      <td>41</td>\n",
       "      <td>Yes</td>\n",
       "      <td>Fashion Designer</td>\n",
       "      <td>2</td>\n",
       "      <td>Low</td>\n",
       "      <td>3</td>\n",
       "      <td>Dog_6</td>\n",
       "      <td>Akshat</td>\n",
       "      <td>The specimen is reliable and experienced.</td>\n",
       "    </tr>\n",
       "    <tr>\n",
       "      <th>1</th>\n",
       "      <td>1462220232</td>\n",
       "      <td>Female</td>\n",
       "      <td>Yes</td>\n",
       "      <td>38</td>\n",
       "      <td>Yes</td>\n",
       "      <td>HR</td>\n",
       "      <td>0</td>\n",
       "      <td>Average</td>\n",
       "      <td>2</td>\n",
       "      <td>Dog_6</td>\n",
       "      <td>Akshat</td>\n",
       "      <td>The specimen is reliable and experienced.</td>\n",
       "    </tr>\n",
       "    <tr>\n",
       "      <th>2</th>\n",
       "      <td>1462226544</td>\n",
       "      <td>Male</td>\n",
       "      <td>Yes</td>\n",
       "      <td>41</td>\n",
       "      <td>Yes</td>\n",
       "      <td>Fashion Designer</td>\n",
       "      <td>0</td>\n",
       "      <td>High</td>\n",
       "      <td>5</td>\n",
       "      <td>Dog_6</td>\n",
       "      <td>Bhavesh</td>\n",
       "      <td>The specimen is reliable and experienced.</td>\n",
       "    </tr>\n",
       "  </tbody>\n",
       "</table>\n",
       "</div>"
      ],
      "text/plain": [
       "           ID     Sex Bachelor Age Graduated            Career  \\\n",
       "0  1462220581    Male       No  41       Yes  Fashion Designer   \n",
       "1  1462220232  Female      Yes  38       Yes                HR   \n",
       "2  1462226544    Male      Yes  41       Yes  Fashion Designer   \n",
       "\n",
       "  Work Experience Family Expenses Family  Size Variable Segmentation  \\\n",
       "0               2             Low            3    Dog_6       Akshat   \n",
       "1               0         Average            2    Dog_6       Akshat   \n",
       "2               0            High            5    Dog_6      Bhavesh   \n",
       "\n",
       "                                 Description  \n",
       "0  The specimen is reliable and experienced.  \n",
       "1  The specimen is reliable and experienced.  \n",
       "2  The specimen is reliable and experienced.  "
      ]
     },
     "execution_count": 3,
     "metadata": {},
     "output_type": "execute_result"
    }
   ],
   "source": [
    "train_df.head(3)"
   ]
  },
  {
   "cell_type": "code",
   "execution_count": 4,
   "id": "09719baf-f1da-49b1-b656-43408c49c4a2",
   "metadata": {},
   "outputs": [
    {
     "data": {
      "text/html": [
       "<div>\n",
       "<style scoped>\n",
       "    .dataframe tbody tr th:only-of-type {\n",
       "        vertical-align: middle;\n",
       "    }\n",
       "\n",
       "    .dataframe tbody tr th {\n",
       "        vertical-align: top;\n",
       "    }\n",
       "\n",
       "    .dataframe thead th {\n",
       "        text-align: right;\n",
       "    }\n",
       "</style>\n",
       "<table border=\"1\" class=\"dataframe\">\n",
       "  <thead>\n",
       "    <tr style=\"text-align: right;\">\n",
       "      <th></th>\n",
       "      <th>ID</th>\n",
       "      <th>Sex</th>\n",
       "      <th>Bachelor</th>\n",
       "      <th>Age</th>\n",
       "      <th>Graduated</th>\n",
       "      <th>Career</th>\n",
       "      <th>Work Experience</th>\n",
       "      <th>Family Expenses</th>\n",
       "      <th>Family  Size</th>\n",
       "      <th>Variable</th>\n",
       "      <th>Description</th>\n",
       "    </tr>\n",
       "  </thead>\n",
       "  <tbody>\n",
       "    <tr>\n",
       "      <th>0</th>\n",
       "      <td>1462224759</td>\n",
       "      <td>Female</td>\n",
       "      <td>Yes</td>\n",
       "      <td>42.0</td>\n",
       "      <td>No</td>\n",
       "      <td>Scientist</td>\n",
       "      <td>4.0</td>\n",
       "      <td>Low</td>\n",
       "      <td>1.0</td>\n",
       "      <td>Dog_6</td>\n",
       "      <td>The specimen is reliable and experienced.</td>\n",
       "    </tr>\n",
       "    <tr>\n",
       "      <th>1</th>\n",
       "      <td>1462220081</td>\n",
       "      <td>Female</td>\n",
       "      <td>No</td>\n",
       "      <td>41.0</td>\n",
       "      <td>Yes</td>\n",
       "      <td>Fashion Designer</td>\n",
       "      <td>0.0</td>\n",
       "      <td>Low</td>\n",
       "      <td>1.0</td>\n",
       "      <td>Dog_6</td>\n",
       "      <td>The specimen is reliable and experienced.</td>\n",
       "    </tr>\n",
       "    <tr>\n",
       "      <th>2</th>\n",
       "      <td>1462226086</td>\n",
       "      <td>Female</td>\n",
       "      <td>No</td>\n",
       "      <td>18.0</td>\n",
       "      <td>No</td>\n",
       "      <td>Doctor</td>\n",
       "      <td>2.0</td>\n",
       "      <td>Low</td>\n",
       "      <td>5.0</td>\n",
       "      <td>Dog_6</td>\n",
       "      <td>The specimen is rather joyful than responsible.</td>\n",
       "    </tr>\n",
       "  </tbody>\n",
       "</table>\n",
       "</div>"
      ],
      "text/plain": [
       "           ID     Sex Bachelor   Age Graduated            Career  \\\n",
       "0  1462224759  Female      Yes  42.0        No         Scientist   \n",
       "1  1462220081  Female       No  41.0       Yes  Fashion Designer   \n",
       "2  1462226086  Female       No  18.0        No            Doctor   \n",
       "\n",
       "   Work Experience Family Expenses  Family  Size Variable  \\\n",
       "0              4.0             Low           1.0    Dog_6   \n",
       "1              0.0             Low           1.0    Dog_6   \n",
       "2              2.0             Low           5.0    Dog_6   \n",
       "\n",
       "                                       Description  \n",
       "0        The specimen is reliable and experienced.  \n",
       "1        The specimen is reliable and experienced.  \n",
       "2  The specimen is rather joyful than responsible.  "
      ]
     },
     "execution_count": 4,
     "metadata": {},
     "output_type": "execute_result"
    }
   ],
   "source": [
    "test_df.head(3)"
   ]
  },
  {
   "cell_type": "code",
   "execution_count": 5,
   "id": "b628d0d8-7cef-41c9-8fb5-acb7a95205dc",
   "metadata": {},
   "outputs": [
    {
     "data": {
      "text/plain": [
       "array(['Dog_6', 'Dog_2', 'Dog_4', nan, 'Dog_7', 'Dog_3', 'Dog_1', 'Dog_5'],\n",
       "      dtype=object)"
      ]
     },
     "execution_count": 5,
     "metadata": {},
     "output_type": "execute_result"
    }
   ],
   "source": [
    "train_df['Variable'].unique()"
   ]
  },
  {
   "cell_type": "code",
   "execution_count": 6,
   "id": "0671c79c-211a-42b9-aa31-aaf7d58ffa7d",
   "metadata": {},
   "outputs": [
    {
     "data": {
      "text/plain": [
       "ID                   0\n",
       "Sex                 32\n",
       "Bachelor           124\n",
       "Age                 22\n",
       "Graduated           69\n",
       "Career             113\n",
       "Work Experience    573\n",
       "Family Expenses     31\n",
       "Family  Size       249\n",
       "Variable            52\n",
       "Segmentation         0\n",
       "Description          0\n",
       "dtype: int64"
      ]
     },
     "execution_count": 6,
     "metadata": {},
     "output_type": "execute_result"
    }
   ],
   "source": [
    "train_df.isnull().sum()"
   ]
  },
  {
   "cell_type": "code",
   "execution_count": 7,
   "id": "9b260439-ba8c-44db-872e-4619ee6aa0a3",
   "metadata": {},
   "outputs": [
    {
     "data": {
      "text/plain": [
       "ID                   0\n",
       "Sex                 20\n",
       "Bachelor            47\n",
       "Age                 14\n",
       "Graduated           33\n",
       "Career              43\n",
       "Work Experience    267\n",
       "Family Expenses      7\n",
       "Family  Size       103\n",
       "Variable            24\n",
       "Description          0\n",
       "dtype: int64"
      ]
     },
     "execution_count": 7,
     "metadata": {},
     "output_type": "execute_result"
    }
   ],
   "source": [
    "test_df.isnull().sum()"
   ]
  },
  {
   "cell_type": "markdown",
   "id": "000914be-4960-4485-9a4b-1cfdb65d163d",
   "metadata": {},
   "source": [
    "Data preprocessing"
   ]
  },
  {
   "cell_type": "code",
   "execution_count": 8,
   "id": "05dd6338-0d9a-4d6b-80bc-e519eab5a1cb",
   "metadata": {},
   "outputs": [
    {
     "name": "stdout",
     "output_type": "stream",
     "text": [
      "--- Initial Info for Train DataFrame ---\n",
      "<class 'pandas.core.frame.DataFrame'>\n",
      "RangeIndex: 5647 entries, 0 to 5646\n",
      "Data columns (total 12 columns):\n",
      " #   Column           Non-Null Count  Dtype \n",
      "---  ------           --------------  ----- \n",
      " 0   ID               5647 non-null   int64 \n",
      " 1   Sex              5615 non-null   object\n",
      " 2   Bachelor         5523 non-null   object\n",
      " 3   Age              5625 non-null   object\n",
      " 4   Graduated        5578 non-null   object\n",
      " 5   Career           5534 non-null   object\n",
      " 6   Work Experience  5074 non-null   object\n",
      " 7   Family Expenses  5616 non-null   object\n",
      " 8   Family  Size     5398 non-null   object\n",
      " 9   Variable         5595 non-null   object\n",
      " 10  Segmentation     5647 non-null   object\n",
      " 11  Description      5647 non-null   object\n",
      "dtypes: int64(1), object(11)\n",
      "memory usage: 529.5+ KB\n",
      "\n",
      "--- Initial Missing Values in Train DataFrame ---\n",
      "ID                   0\n",
      "Sex                 32\n",
      "Bachelor           124\n",
      "Age                 22\n",
      "Graduated           69\n",
      "Career             113\n",
      "Work Experience    573\n",
      "Family Expenses     31\n",
      "Family  Size       249\n",
      "Variable            52\n",
      "Segmentation         0\n",
      "Description          0\n",
      "dtype: int64\n",
      "\n",
      "--- Initial Info for Test DataFrame ---\n",
      "<class 'pandas.core.frame.DataFrame'>\n",
      "RangeIndex: 2421 entries, 0 to 2420\n",
      "Data columns (total 11 columns):\n",
      " #   Column           Non-Null Count  Dtype  \n",
      "---  ------           --------------  -----  \n",
      " 0   ID               2421 non-null   int64  \n",
      " 1   Sex              2401 non-null   object \n",
      " 2   Bachelor         2374 non-null   object \n",
      " 3   Age              2407 non-null   float64\n",
      " 4   Graduated        2388 non-null   object \n",
      " 5   Career           2378 non-null   object \n",
      " 6   Work Experience  2154 non-null   float64\n",
      " 7   Family Expenses  2414 non-null   object \n",
      " 8   Family  Size     2318 non-null   float64\n",
      " 9   Variable         2397 non-null   object \n",
      " 10  Description      2421 non-null   object \n",
      "dtypes: float64(3), int64(1), object(7)\n",
      "memory usage: 208.2+ KB\n",
      "\n",
      "--- Initial Missing Values in Test DataFrame ---\n",
      "ID                   0\n",
      "Sex                 20\n",
      "Bachelor            47\n",
      "Age                 14\n",
      "Graduated           33\n",
      "Career              43\n",
      "Work Experience    267\n",
      "Family Expenses      7\n",
      "Family  Size       103\n",
      "Variable            24\n",
      "Description          0\n",
      "dtype: int64\n",
      "\n",
      "--- Train DataFrame Info After Numeric Conversion ---\n",
      "<class 'pandas.core.frame.DataFrame'>\n",
      "RangeIndex: 5647 entries, 0 to 5646\n",
      "Data columns (total 12 columns):\n",
      " #   Column           Non-Null Count  Dtype  \n",
      "---  ------           --------------  -----  \n",
      " 0   ID               5647 non-null   int64  \n",
      " 1   Sex              5615 non-null   object \n",
      " 2   Bachelor         5523 non-null   object \n",
      " 3   Age              5621 non-null   float64\n",
      " 4   Graduated        5578 non-null   object \n",
      " 5   Career           5534 non-null   object \n",
      " 6   Work Experience  5073 non-null   float64\n",
      " 7   Family Expenses  5616 non-null   object \n",
      " 8   Family  Size     5397 non-null   float64\n",
      " 9   Variable         5595 non-null   object \n",
      " 10  Segmentation     5647 non-null   object \n",
      " 11  Description      5647 non-null   object \n",
      "dtypes: float64(3), int64(1), object(8)\n",
      "memory usage: 529.5+ KB\n",
      "\n",
      "--- Test DataFrame Info After Numeric Conversion ---\n",
      "<class 'pandas.core.frame.DataFrame'>\n",
      "RangeIndex: 2421 entries, 0 to 2420\n",
      "Data columns (total 11 columns):\n",
      " #   Column           Non-Null Count  Dtype  \n",
      "---  ------           --------------  -----  \n",
      " 0   ID               2421 non-null   int64  \n",
      " 1   Sex              2401 non-null   object \n",
      " 2   Bachelor         2374 non-null   object \n",
      " 3   Age              2407 non-null   float64\n",
      " 4   Graduated        2388 non-null   object \n",
      " 5   Career           2378 non-null   object \n",
      " 6   Work Experience  2154 non-null   float64\n",
      " 7   Family Expenses  2414 non-null   object \n",
      " 8   Family  Size     2318 non-null   float64\n",
      " 9   Variable         2397 non-null   object \n",
      " 10  Description      2421 non-null   object \n",
      "dtypes: float64(3), int64(1), object(7)\n",
      "memory usage: 208.2+ KB\n",
      "\n",
      "Data cleaning of numeric columns complete.\n"
     ]
    }
   ],
   "source": [
    "# Cell 3: Initial Data Inspection and Cleaning\n",
    "print(\"--- Initial Info for Train DataFrame ---\")\n",
    "train_df.info()\n",
    "print(\"\\n--- Initial Missing Values in Train DataFrame ---\")\n",
    "print(train_df.isnull().sum())\n",
    "\n",
    "print(\"\\n--- Initial Info for Test DataFrame ---\")\n",
    "test_df.info()\n",
    "print(\"\\n--- Initial Missing Values in Test DataFrame ---\")\n",
    "print(test_df.isnull().sum())\n",
    "\n",
    "# Convert problematic columns to numeric, coercing errors to NaN\n",
    "for col in ['Age', 'Work Experience', 'Family  Size']: # Note the double space in 'Family  Size'\n",
    "    train_df[col] = pd.to_numeric(train_df[col], errors='coerce')\n",
    "    test_df[col] = pd.to_numeric(test_df[col], errors='coerce')\n",
    "\n",
    "print(\"\\n--- Train DataFrame Info After Numeric Conversion ---\")\n",
    "train_df.info()\n",
    "print(\"\\n--- Test DataFrame Info After Numeric Conversion ---\")\n",
    "test_df.info()\n",
    "\n",
    "print(\"\\nData cleaning of numeric columns complete.\")"
   ]
  },
  {
   "cell_type": "markdown",
   "id": "ba366049-5f58-45e9-b882-81c698476d12",
   "metadata": {},
   "source": [
    "Exploratory Data Analysis "
   ]
  },
  {
   "cell_type": "code",
   "execution_count": 9,
   "id": "ee2df8a8-e5d8-4f4b-a79e-d43d6d4fbe15",
   "metadata": {},
   "outputs": [
    {
     "name": "stdout",
     "output_type": "stream",
     "text": [
      "Target variable distribution in train_df:\n",
      "Segmentation\n",
      "Darsh        0.283690\n",
      "Chaitanya    0.243846\n",
      "Akshat       0.239419\n",
      "Bhavesh      0.233044\n",
      "Name: proportion, dtype: float64\n"
     ]
    },
    {
     "name": "stderr",
     "output_type": "stream",
     "text": [
      "C:\\Users\\Lenovo\\AppData\\Local\\Temp\\ipykernel_16432\\2451246716.py:7: FutureWarning: \n",
      "\n",
      "Passing `palette` without assigning `hue` is deprecated and will be removed in v0.14.0. Assign the `x` variable to `hue` and set `legend=False` for the same effect.\n",
      "\n",
      "  sns.countplot(data=train_df, x='Segmentation', palette='viridis', order=train_df['Segmentation'].value_counts().index)\n"
     ]
    },
    {
     "data": {
      "image/png": "[encoded data removed]",
      "text/plain": [
       "<Figure size 800x500 with 1 Axes>"
      ]
     },
     "metadata": {},
     "output_type": "display_data"
    },
    {
     "name": "stdout",
     "output_type": "stream",
     "text": [
      "\n",
      "Target variable distribution analysis complete.\n"
     ]
    }
   ],
   "source": [
    "# Cell 4: Exploratory Data Analysis (EDA) - Target Variable Distribution\n",
    "print(\"Target variable distribution in train_df:\")\n",
    "print(train_df['Segmentation'].value_counts(normalize=True))\n",
    "\n",
    "# Visualize target distribution\n",
    "plt.figure(figsize=(8, 5))\n",
    "sns.countplot(data=train_df, x='Segmentation', palette='viridis', order=train_df['Segmentation'].value_counts().index)\n",
    "plt.title('Distribution of Customer Personas (Target Variable in Training Data)')\n",
    "plt.xlabel('Persona')\n",
    "plt.ylabel('Count')\n",
    "plt.grid(axis='y', linestyle='--', alpha=0.7)\n",
    "plt.show()\n",
    "\n",
    "print(\"\\nTarget variable distribution analysis complete.\")"
   ]
  },
  {
   "cell_type": "markdown",
   "id": "348eff0b-36bb-4dd0-8b05-96b81ce1f610",
   "metadata": {},
   "source": [
    "Feature Engineering and Data Splitting"
   ]
  },
  {
   "cell_type": "code",
   "execution_count": 10,
   "id": "ef51dde8-720d-48f8-ab98-be5292544f54",
   "metadata": {},
   "outputs": [
    {
     "name": "stdout",
     "output_type": "stream",
     "text": [
      "Original target classes: ['Akshat' 'Bhavesh' 'Chaitanya' 'Darsh']\n",
      "Encoded target samples (first 5): [0 0 1 3 1]\n",
      "\n",
      "Categorical columns identified for preprocessing: ['Sex', 'Bachelor', 'Graduated', 'Career', 'Family Expenses', 'Variable']\n",
      "Numerical columns identified for preprocessing: ['Age', 'Work Experience', 'Family  Size']\n",
      "\n",
      "Training data shape (X_train): (4517, 9)\n",
      "Validation data shape (X_val): (1130, 9)\n",
      "Training target shape (y_train): (4517,)\n",
      "Validation target shape (y_val): (1130,)\n",
      "\n",
      "Data splitting and initial feature preparation complete.\n"
     ]
    }
   ],
   "source": [
    "# Drop 'ID' and 'Description' from both train and test sets\n",
    "train_df_processed = train_df.drop(columns=['ID', 'Description'])\n",
    "test_df_processed_for_pred = test_df.drop(columns=['ID', 'Description'], errors='ignore')\n",
    "\n",
    "# Separate features (X) and target (y) for training data\n",
    "X = train_df_processed.drop('Segmentation', axis=1)\n",
    "y = train_df_processed['Segmentation']\n",
    "\n",
    "# Encode the target variable (e.g., 'Akshat' -> 0, 'Bhavesh' -> 1, etc.)\n",
    "le = LabelEncoder()\n",
    "y_encoded = le.fit_transform(y)\n",
    "print(f\"Original target classes: {le.classes_}\")\n",
    "print(f\"Encoded target samples (first 5): {y_encoded[:5]}\")\n",
    "\n",
    "# Identify categorical and numerical columns for preprocessing\n",
    "categorical_cols = X.select_dtypes(include='object').columns.tolist()\n",
    "numerical_cols = X.select_dtypes(include=np.number).columns.tolist()\n",
    "\n",
    "print(f\"\\nCategorical columns identified for preprocessing: {categorical_cols}\")\n",
    "print(f\"Numerical columns identified for preprocessing: {numerical_cols}\")\n",
    "\n",
    "# Split the training data into training and validation sets\n",
    "# stratify=y_encoded ensures that the proportion of each persona is maintained in both sets.\n",
    "X_train, X_val, y_train, y_val = train_test_split(X, y_encoded, test_size=0.2, random_state=42, stratify=y_encoded)\n",
    "\n",
    "print(f\"\\nTraining data shape (X_train): {X_train.shape}\")\n",
    "print(f\"Validation data shape (X_val): {X_val.shape}\")\n",
    "print(f\"Training target shape (y_train): {y_train.shape}\")\n",
    "print(f\"Validation target shape (y_val): {y_val.shape}\")\n",
    "\n",
    "print(\"\\nData splitting and initial feature preparation complete.\")"
   ]
  },
  {
   "cell_type": "markdown",
   "id": "e6ea0fb0-f415-42bd-99fb-8c3d6a625c0e",
   "metadata": {},
   "source": [
    "Define Preprocessing and Model Pipeline"
   ]
  },
  {
   "cell_type": "code",
   "execution_count": 11,
   "id": "7c46fd23-66be-4c57-9269-96af90106e79",
   "metadata": {},
   "outputs": [
    {
     "name": "stdout",
     "output_type": "stream",
     "text": [
      "\n",
      "--- Class balance seems okay. SMOTE will not be used. ---\n",
      "\n",
      "Base model pipeline defined (Preprocessor + XGBoost Classifier).\n"
     ]
    }
   ],
   "source": [
    "# Define preprocessing steps for numerical features\n",
    "numerical_transformer = Pipeline(steps=[\n",
    "    ('imputer', SimpleImputer(strategy='mean')), # Fill missing numerical values with the mean\n",
    "    ('scaler', StandardScaler()) # Scale numerical features\n",
    "])\n",
    "\n",
    "# Define preprocessing steps for categorical features\n",
    "categorical_transformer = Pipeline(steps=[\n",
    "    ('imputer', SimpleImputer(strategy='most_frequent')), # Fill missing categorical values with the most frequent category\n",
    "    ('onehot', OneHotEncoder(handle_unknown='ignore')) # Convert categorical variables into one-hot encoded features\n",
    "])\n",
    "\n",
    "# Combine transformers using ColumnTransformer\n",
    "preprocessor = ColumnTransformer(\n",
    "    transformers=[\n",
    "        ('num', numerical_transformer, numerical_cols),\n",
    "        ('cat', categorical_transformer, categorical_cols)\n",
    "    ],\n",
    "    remainder='passthrough'\n",
    ")\n",
    "\n",
    "# Check for class imbalance to decide whether to use SMOTE\n",
    "class_counts = pd.Series(y_encoded).value_counts()\n",
    "if class_counts.min() / class_counts.max() < 0.5: # Example threshold for imbalance\n",
    "    print(\"\\n--- Detected potential class imbalance. SMOTE will be included in the pipeline. ---\")\n",
    "    use_smote = True\n",
    "else:\n",
    "    print(\"\\n--- Class balance seems okay. SMOTE will not be used. ---\")\n",
    "    use_smote = False\n",
    "\n",
    "# Define the full model pipeline (preprocessing + classifier)\n",
    "# We will use this pipeline as the `estimator` for GridSearchCV\n",
    "if use_smote:\n",
    "    base_model_pipeline = ImbPipeline(steps=[\n",
    "        ('preprocessor', preprocessor),\n",
    "        ('smote', SMOTE(random_state=42)),\n",
    "        ('classifier', XGBClassifier(random_state=42, use_label_encoder=False, eval_metric='mlogloss'))\n",
    "    ])\n",
    "else:\n",
    "    base_model_pipeline = Pipeline(steps=[\n",
    "        ('preprocessor', preprocessor),\n",
    "        ('classifier', XGBClassifier(random_state=42, use_label_encoder=False, eval_metric='mlogloss'))\n",
    "    ])\n",
    "\n",
    "print(\"\\nBase model pipeline defined (Preprocessor + XGBoost Classifier).\")\n",
    "if use_smote:\n",
    "    print(\"SMOTE is set to be included in the pipeline for handling class imbalance.\")"
   ]
  },
  {
   "cell_type": "markdown",
   "id": "50073195-8cc6-45df-b7b3-89665db1c85d",
   "metadata": {},
   "source": [
    "Hyperparameter Tuning (Crucial for High Accuracy)"
   ]
  },
  {
   "cell_type": "code",
   "execution_count": 12,
   "id": "5bd3b048-66f6-4a50-8eb2-0dc44fca8904",
   "metadata": {},
   "outputs": [
    {
     "name": "stdout",
     "output_type": "stream",
     "text": [
      "\n",
      "--- Starting Hyperparameter Tuning for XGBoost (This may take a while) ---\n",
      "Fitting 5 folds for each of 324 candidates, totalling 1620 fits\n"
     ]
    },
    {
     "name": "stderr",
     "output_type": "stream",
     "text": [
      "C:\\Users\\Lenovo\\anaconda3\\Lib\\site-packages\\xgboost\\training.py:183: UserWarning: [09:56:17] WARNING: C:\\actions-runner\\_work\\xgboost\\xgboost\\src\\learner.cc:738: \n",
      "Parameters: { \"use_label_encoder\" } are not used.\n",
      "\n",
      "  bst.update(dtrain, iteration=i, fobj=obj)\n"
     ]
    },
    {
     "name": "stdout",
     "output_type": "stream",
     "text": [
      "\n",
      "--- Hyperparameter Tuning Results ---\n",
      "Best parameters found: {'classifier__colsample_bytree': 0.7, 'classifier__gamma': 0.1, 'classifier__learning_rate': 0.05, 'classifier__max_depth': 5, 'classifier__n_estimators': 150, 'classifier__subsample': 0.7}\n",
      "Best cross-validation F1-score (weighted): 0.5330022020519188\n",
      "\n",
      "Model pipeline updated with best parameters from GridSearchCV.\n"
     ]
    }
   ],
   "source": [
    "print(f\"\\n--- Starting Hyperparameter Tuning for XGBoost (This may take a while) ---\")\n",
    "\n",
    "# Define a comprehensive parameter grid for XGBoost.\n",
    "# These values are chosen to explore a good range for common XGBoost parameters.\n",
    "param_grid = {\n",
    "    'classifier__n_estimators': [150, 250, 400], # Number of boosting rounds\n",
    "    'classifier__max_depth': [3, 5, 7],       # Maximum depth of a tree\n",
    "    'classifier__learning_rate': [0.01, 0.05, 0.1], # Step size shrinkage\n",
    "    'classifier__subsample': [0.7, 0.9],     # Subsample ratio of the training instance\n",
    "    'classifier__colsample_bytree': [0.7, 0.9],    # Subsample ratio of columns when constructing each tree\n",
    "    'classifier__gamma': [0, 0.1, 0.2]       # Minimum loss reduction required to make a further partition\n",
    "}\n",
    "\n",
    "# Use StratifiedKFold for cross-validation to maintain class balance across folds\n",
    "cv_strategy = StratifiedKFold(n_splits=5, shuffle=True, random_state=42)\n",
    "\n",
    "# Initialize GridSearchCV\n",
    "# scoring='f1_weighted' is robust for multi-class classification, especially with imbalance\n",
    "grid_search = GridSearchCV(\n",
    "    estimator=base_model_pipeline, # Use the base pipeline defined earlier\n",
    "    param_grid=param_grid,\n",
    "    cv=cv_strategy,\n",
    "    scoring='f1_weighted', # Optimize for weighted F1-score\n",
    "    n_jobs=-1, # Use all available CPU cores for faster computation\n",
    "    verbose=2 # Show progress during the search\n",
    ")\n",
    "\n",
    "# Fit GridSearchCV on the full training data (X, y_encoded)\n",
    "# The best model found will be used for final predictions\n",
    "grid_search.fit(X, y_encoded) # Fit on the full training data for final model\n",
    "\n",
    "print(\"\\n--- Hyperparameter Tuning Results ---\")\n",
    "print(\"Best parameters found:\", grid_search.best_params_)\n",
    "print(\"Best cross-validation F1-score (weighted):\", grid_search.best_score_)\n",
    "\n",
    "# Update the model_pipeline to the best estimator found by GridSearchCV\n",
    "model_pipeline = grid_search.best_estimator_\n",
    "print(\"\\nModel pipeline updated with best parameters from GridSearchCV.\")"
   ]
  },
  {
   "cell_type": "markdown",
   "id": "8057a7a7-dd46-450c-9577-27423d5cbd0b",
   "metadata": {},
   "source": [
    "Final Model Evaluation on Validation Set"
   ]
  },
  {
   "cell_type": "code",
   "execution_count": 15,
   "id": "3ab0b7e2-19a0-4b17-8298-f54a4638c4c9",
   "metadata": {},
   "outputs": [],
   "source": [
    "from sklearn.metrics import f1_score"
   ]
  },
  {
   "cell_type": "code",
   "execution_count": 16,
   "id": "fbf7f839-9296-40f1-8697-91c6e4d2e94f",
   "metadata": {},
   "outputs": [
    {
     "name": "stdout",
     "output_type": "stream",
     "text": [
      "\n",
      "--- Final Model Evaluation on Validation Set (after tuning) ---\n",
      "Accuracy on Validation Set: 0.6513\n",
      "\n",
      "Classification Report on Validation Set:\n",
      "               precision    recall  f1-score   support\n",
      "\n",
      "      Akshat       0.58      0.60      0.59       270\n",
      "     Bhavesh       0.60      0.51      0.55       263\n",
      "   Chaitanya       0.66      0.64      0.65       276\n",
      "       Darsh       0.73      0.82      0.78       321\n",
      "\n",
      "    accuracy                           0.65      1130\n",
      "   macro avg       0.64      0.64      0.64      1130\n",
      "weighted avg       0.65      0.65      0.65      1130\n",
      "\n"
     ]
    },
    {
     "data": {
      "image/png": "[encoded data removed]",
      "text/plain": [
       "<Figure size 800x600 with 2 Axes>"
      ]
     },
     "metadata": {},
     "output_type": "display_data"
    },
    {
     "name": "stdout",
     "output_type": "stream",
     "text": [
      "\n",
      "Final model evaluation complete.\n"
     ]
    }
   ],
   "source": [
    "# Cell 8: Final Model Evaluation on Validation Set\n",
    "\n",
    "print(\"\\n--- Final Model Evaluation on Validation Set (after tuning) ---\")\n",
    "\n",
    "# Make predictions on the validation set using the best model\n",
    "y_pred_val = model_pipeline.predict(X_val)\n",
    "\n",
    "# Calculate Accuracy\n",
    "accuracy_val = accuracy_score(y_val, y_pred_val)\n",
    "print(f\"Accuracy on Validation Set: {accuracy_val:.4f}\")\n",
    "\n",
    "# Generate Classification Report\n",
    "report_val = classification_report(y_val, y_pred_val, target_names=le.classes_)\n",
    "print(\"\\nClassification Report on Validation Set:\\n\", report_val)\n",
    "\n",
    "# Plot Confusion Matrix\n",
    "cm_val = confusion_matrix(y_val, y_pred_val)\n",
    "plt.figure(figsize=(8, 6))\n",
    "sns.heatmap(cm_val, annot=True, fmt='d', cmap='Blues',\n",
    "            xticklabels=le.classes_, yticklabels=le.classes_)\n",
    "plt.title('Confusion Matrix for Tuned XGBoost Model (Validation Set)')\n",
    "plt.xlabel('Predicted Persona')\n",
    "plt.ylabel('Actual Persona')\n",
    "plt.show()\n",
    "\n",
    "print(\"\\nFinal model evaluation complete.\")"
   ]
  },
  {
   "cell_type": "markdown",
   "id": "7a3e4261-dcb0-4004-9821-6606bc688dd3",
   "metadata": {},
   "source": [
    "Model Persistence"
   ]
  },
  {
   "cell_type": "code",
   "execution_count": 17,
   "id": "474a5736-48d3-4bdf-89b4-938d7136d755",
   "metadata": {},
   "outputs": [
    {
     "name": "stdout",
     "output_type": "stream",
     "text": [
      "\n",
      "--- Optimized model saved as 'ecocart_persona_predictor_model_optimized1 .pkl' ---\n",
      "--- LabelEncoder saved as 'label_encoder.pkl' ---\n"
     ]
    }
   ],
   "source": [
    "# Cell 9: Model Persistence (Saving)\n",
    "model_filename = 'ecocart_persona_predictor_model_optimized1 .pkl'\n",
    "label_encoder_filename = 'label_encoder.pkl' # Same as before, but good to ensure it's saved\n",
    "\n",
    "joblib.dump(model_pipeline, model_filename)\n",
    "joblib.dump(le, label_encoder_filename)\n",
    "\n",
    "print(f\"\\n--- Optimized model saved as '{model_filename}' ---\")\n",
    "print(f\"--- LabelEncoder saved as '{label_encoder_filename}' ---\")"
   ]
  },
  {
   "cell_type": "markdown",
   "id": "7aa6a451-ac87-4983-be91-3c8e772c2972",
   "metadata": {},
   "source": [
    " Prediction on New Data (Test Dataset) and Submission File Generation"
   ]
  },
  {
   "cell_type": "code",
   "execution_count": 18,
   "id": "98242056-7781-4053-862d-7c7efdec7edc",
   "metadata": {},
   "outputs": [
    {
     "name": "stdout",
     "output_type": "stream",
     "text": [
      "\n",
      "--- Loading the saved optimized model: 'ecocart_persona_predictor_model_optimized1 .pkl' ---\n",
      "Optimized model and LabelEncoder loaded successfully.\n",
      "\n",
      "--- Making predictions on the provided test.csv data ---\n",
      "\n",
      "--- Submission file 'submission.csv' created successfully ---\n",
      "Submission file head:\n",
      "           ID Segmentation\n",
      "0  1462224759       Akshat\n",
      "1  1462220081       Akshat\n",
      "2  1462226086        Darsh\n",
      "3  1462224440        Darsh\n",
      "4  1462222905        Darsh\n",
      "\n",
      "Counts of predicted personas in the submission file:\n",
      "Segmentation\n",
      "Darsh        762\n",
      "Akshat       604\n",
      "Chaitanya    585\n",
      "Bhavesh      470\n",
      "Name: count, dtype: int64\n",
      "\n",
      "--- Prediction process complete. ---\n"
     ]
    }
   ],
   "source": [
    "# Cell 10: Prediction on New Data (test.csv) and Submission File Generation\n",
    "\n",
    "# Load the trained model and LabelEncoder (in case you run this cell independently)\n",
    "print(f\"\\n--- Loading the saved optimized model: '{model_filename}' ---\")\n",
    "loaded_model_pipeline = joblib.load(model_filename)\n",
    "loaded_label_encoder = joblib.load(label_encoder_filename)\n",
    "print(\"Optimized model and LabelEncoder loaded successfully.\")\n",
    "\n",
    "# Prepare the test dataset for prediction\n",
    "# test_df_processed_for_pred was already created in Step 5\n",
    "print(\"\\n--- Making predictions on the provided test.csv data ---\")\n",
    "test_predictions_encoded = loaded_model_pipeline.predict(test_df_processed_for_pred)\n",
    "\n",
    "# Inverse transform the numerical predictions back to original persona names\n",
    "test_predictions_personas = loaded_label_encoder.inverse_transform(test_predictions_encoded)\n",
    "\n",
    "# Create the final submission DataFrame\n",
    "submission_df = pd.DataFrame({'ID': test_df['ID'], 'Segmentation': test_predictions_personas})\n",
    "\n",
    "# Save the submission file to CSV\n",
    "submission_filename = 'submission.csv'\n",
    "submission_df.to_csv(submission_filename, index=False)\n",
    "\n",
    "print(f\"\\n--- Submission file '{submission_filename}' created successfully ---\")\n",
    "print(\"Submission file head:\")\n",
    "print(submission_df.head())\n",
    "print(\"\\nCounts of predicted personas in the submission file:\")\n",
    "print(submission_df['Segmentation'].value_counts())\n",
    "\n",
    "print(\"\\n--- Prediction process complete. ---\")"
   ]
  },
  {
   "cell_type": "code",
   "execution_count": 31,
   "id": "d06af09d-caf0-47cc-9965-3f2ac3cd0d71",
   "metadata": {},
   "outputs": [
    {
     "name": "stdout",
     "output_type": "stream",
     "text": [
      "Model and LabelEncoder loaded successfully from 'ecocart_persona_predictor_model_optimized.pkl' and 'label_encoder.pkl'.\n",
      "\n",
      "--- Prediction Result ---\n",
      "Input Customer Data:\n",
      "Sex                Female\n",
      "Bachelor               No\n",
      "Age                    32\n",
      "Graduated             Yes\n",
      "Career                 HR\n",
      "Work Experience         8\n",
      "Family Expenses      High\n",
      "Family  Size            4\n",
      "Variable            Dog_8\n",
      "\n",
      "Predicted Persona: **Darsh**\n"
     ]
    }
   ],
   "source": [
    "import pandas as pd\n",
    "import numpy as np\n",
    "import joblib\n",
    "import os\n",
    "\n",
    "# --- Configuration ---\n",
    "MODEL_PATH = 'ecocart_persona_predictor_model_optimized.pkl' # Use the optimized model\n",
    "LABEL_ENCODER_PATH = 'label_encoder.pkl'\n",
    "\n",
    "# --- Load Model and LabelEncoder ---\n",
    "try:\n",
    "    model_pipeline = joblib.load(MODEL_PATH)\n",
    "    label_encoder = joblib.load(LABEL_ENCODER_PATH)\n",
    "    print(f\"Model and LabelEncoder loaded successfully from '{MODEL_PATH}' and '{LABEL_ENCODER_PATH}'.\")\n",
    "except FileNotFoundError:\n",
    "    print(f\"Error: Model or LabelEncoder file not found. Make sure '{MODEL_PATH}' and '{LABEL_ENCODER_PATH}' are in the same directory.\")\n",
    "    print(\"Please ensure you have run the full Jupyter Notebook code to train and save these files.\")\n",
    "    exit() # Exit if files are missing\n",
    "except Exception as e:\n",
    "    print(f\"An error occurred loading the model or LabelEncoder: {e}\")\n",
    "    exit()\n",
    "\n",
    "# --- Input Data for Prediction ---\n",
    "# Your provided data: Female\tYes\t42\tNo\tScientist\t4\tLow\t1\tDog_6\n",
    "input_data = {\n",
    "    'Sex': ['Female'],\n",
    "    'Bachelor': ['No'],\n",
    "    'Age': [32],\n",
    "    'Graduated': ['Yes'],\n",
    "    'Career': ['HR'],\n",
    "    'Work Experience': [8],\n",
    "    'Family Expenses': ['High'],\n",
    "    'Family  Size': [4], # IMPORTANT: Note the double space in 'Family  Size'\n",
    "    'Variable': ['Dog_8']\n",
    "}\n",
    "\n",
    "# Create a DataFrame from the input data\n",
    "input_df = pd.DataFrame(input_data)\n",
    "\n",
    "# Ensure numeric columns are correctly typed (coercing errors to handle potential non-numeric input)\n",
    "for col in ['Age', 'Work Experience', 'Family  Size']:\n",
    "    input_df[col] = pd.to_numeric(input_df[col], errors='coerce')\n",
    "\n",
    "# --- Make Prediction ---\n",
    "try:\n",
    "    # The model_pipeline handles all preprocessing (imputation, scaling, encoding) internally\n",
    "    predicted_encoded = model_pipeline.predict(input_df)\n",
    "\n",
    "    # Inverse transform to get the persona name\n",
    "    predicted_persona = label_encoder.inverse_transform(predicted_encoded)[0]\n",
    "\n",
    "    print(f\"\\n--- Prediction Result ---\")\n",
    "    print(f\"Input Customer Data:\\n{input_df.iloc[0].to_string()}\")\n",
    "    print(f\"\\nPredicted Persona: **{predicted_persona}**\")\n",
    "\n",
    "except Exception as e:\n",
    "    print(f\"An error occurred during prediction: {e}\")\n",
    "    print(\"Please ensure the input data format and column names match the training data.\")"
   ]
  },
  {
   "cell_type": "code",
   "execution_count": null,
   "id": "433d4993-f2c5-4f6f-8fe7-e7e7bfea0e4f",
   "metadata": {},
   "outputs": [],
   "source": []
  },
  {
   "cell_type": "code",
   "execution_count": null,
   "id": "9e4147b7-b8fd-4f1b-a63a-47214105bc59",
   "metadata": {},
   "outputs": [],
   "source": []
  }
 ],
 "metadata": {
  "kernelspec": {
   "display_name": "Python [conda env:base] *",
   "language": "python",
   "name": "conda-base-py"
  },
  "language_info": {
   "codemirror_mode": {
    "name": "ipython",
    "version": 3
   },
   "file_extension": ".py",
   "mimetype": "text/x-python",
   "name": "python",
   "nbconvert_exporter": "python",
   "pygments_lexer": "ipython3",
   "version": "3.12.7"
  }
 },
 "nbformat": 4,
 "nbformat_minor": 5
}
